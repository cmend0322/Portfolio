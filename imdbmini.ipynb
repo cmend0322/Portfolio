{
 "cells": [
  {
   "cell_type": "code",
   "execution_count": null,
   "id": "55f9ea39-4844-4d6e-b82b-7d5c05b9095a",
   "metadata": {},
   "outputs": [],
   "source": [
    "import numpy as np\n",
    "import pandas as pd\n",
    "import plotly.express as px\n",
    "import sqlalchemy\n",
    "from pathlib import Path\n",
    "from zipfile import ZipFile\n",
    "\n",
    "with ZipFile('dataElections.zip', 'r') as zipObj:\n",
    "   # Extract all the contents of zip file in current directory\n",
    "   zipObj.extractall()\n",
    "    \n",
    "engine = sqlalchemy.create_engine(\"sqlite:///imdbmini.db\")\n",
    "connection = engine.connect()"
   ]
  },
  {
   "cell_type": "code",
   "execution_count": 24,
   "id": "47f12ce4-b1f7-4670-bc92-d3e8d1ad8b6b",
   "metadata": {},
   "outputs": [],
   "source": [
    "%reload_ext sql"
   ]
  },
  {
   "cell_type": "code",
   "execution_count": 25,
   "id": "80946290-fa72-46ff-ad8d-a2410ddf950f",
   "metadata": {},
   "outputs": [],
   "source": [
    "%sql sqlite:///imdbmini.db"
   ]
  },
  {
   "cell_type": "code",
   "execution_count": 26,
   "id": "e0e98749-441c-414b-aa7e-f0a44fc6b368",
   "metadata": {},
   "outputs": [
    {
     "name": "stdout",
     "output_type": "stream",
     "text": [
      " * sqlite:///imdbmini.db\n",
      "Done.\n"
     ]
    },
    {
     "data": {
      "text/html": [
       "<table>\n",
       "    <thead>\n",
       "        <tr>\n",
       "            <th>sql</th>\n",
       "        </tr>\n",
       "    </thead>\n",
       "    <tbody>\n",
       "        <tr>\n",
       "            <td>CREATE TABLE &quot;Title&quot; (<br>&quot;tconst&quot; INTEGER,<br>  &quot;titleType&quot; TEXT,<br>  &quot;primaryTitle&quot; TEXT,<br>  &quot;originalTitle&quot; TEXT,<br>  &quot;isAdult&quot; TEXT,<br>  &quot;startYear&quot; TEXT,<br>  &quot;endYear&quot; TEXT,<br>  &quot;runtimeMinutes&quot; TEXT,<br>  &quot;genres&quot; TEXT<br>)</td>\n",
       "        </tr>\n",
       "        <tr>\n",
       "            <td>CREATE TABLE &quot;Name&quot; (<br>&quot;nconst&quot; INTEGER,<br>  &quot;primaryName&quot; TEXT,<br>  &quot;birthYear&quot; TEXT,<br>  &quot;deathYear&quot; TEXT,<br>  &quot;primaryProfession&quot; TEXT<br>)</td>\n",
       "        </tr>\n",
       "        <tr>\n",
       "            <td>CREATE TABLE &quot;Role&quot; (<br>tconst INTEGER,<br>ordering TEXT,<br>nconst INTEGER,<br>category TEXT,<br>job TEXT,<br>characters TEXT<br>)</td>\n",
       "        </tr>\n",
       "        <tr>\n",
       "            <td>CREATE TABLE &quot;Rating&quot; (<br>tconst INTEGER,<br>averageRating TEXT,<br>numVotes TEXT<br>)</td>\n",
       "        </tr>\n",
       "    </tbody>\n",
       "</table>"
      ],
      "text/plain": [
       "[('CREATE TABLE \"Title\" (\\n\"tconst\" INTEGER,\\n  \"titleType\" TEXT,\\n  \"primaryTitle\" TEXT,\\n  \"originalTitle\" TEXT,\\n  \"isAdult\" TEXT,\\n  \"startYear\" TEXT,\\n  \"endYear\" TEXT,\\n  \"runtimeMinutes\" TEXT,\\n  \"genres\" TEXT\\n)',),\n",
       " ('CREATE TABLE \"Name\" (\\n\"nconst\" INTEGER,\\n  \"primaryName\" TEXT,\\n  \"birthYear\" TEXT,\\n  \"deathYear\" TEXT,\\n  \"primaryProfession\" TEXT\\n)',),\n",
       " ('CREATE TABLE \"Role\" (\\ntconst INTEGER,\\nordering TEXT,\\nnconst INTEGER,\\ncategory TEXT,\\njob TEXT,\\ncharacters TEXT\\n)',),\n",
       " ('CREATE TABLE \"Rating\" (\\ntconst INTEGER,\\naverageRating TEXT,\\nnumVotes TEXT\\n)',)]"
      ]
     },
     "execution_count": 26,
     "metadata": {},
     "output_type": "execute_result"
    }
   ],
   "source": [
    "%%sql\n",
    "SELECT sql FROM sqlite_master WHERE type='table';"
   ]
  },
  {
   "cell_type": "code",
   "execution_count": 27,
   "id": "b4afbe21-b23d-409a-af4a-48aef04edc98",
   "metadata": {},
   "outputs": [
    {
     "name": "stdout",
     "output_type": "stream",
     "text": [
      " * sqlite:///imdbmini.db\n",
      "Done.\n"
     ]
    },
    {
     "data": {
      "text/html": [
       "<table>\n",
       "    <thead>\n",
       "        <tr>\n",
       "            <th>tconst</th>\n",
       "            <th>titleType</th>\n",
       "            <th>primaryTitle</th>\n",
       "            <th>originalTitle</th>\n",
       "            <th>isAdult</th>\n",
       "            <th>startYear</th>\n",
       "            <th>endYear</th>\n",
       "            <th>runtimeMinutes</th>\n",
       "            <th>genres</th>\n",
       "        </tr>\n",
       "    </thead>\n",
       "    <tbody>\n",
       "        <tr>\n",
       "            <td>417</td>\n",
       "            <td>short</td>\n",
       "            <td>A Trip to the Moon</td>\n",
       "            <td>Le voyage dans la lune</td>\n",
       "            <td>0</td>\n",
       "            <td>1902</td>\n",
       "            <td>None</td>\n",
       "            <td>13</td>\n",
       "            <td>Action,Adventure,Comedy</td>\n",
       "        </tr>\n",
       "        <tr>\n",
       "            <td>4972</td>\n",
       "            <td>movie</td>\n",
       "            <td>The Birth of a Nation</td>\n",
       "            <td>The Birth of a Nation</td>\n",
       "            <td>0</td>\n",
       "            <td>1915</td>\n",
       "            <td>None</td>\n",
       "            <td>195</td>\n",
       "            <td>Drama,History,War</td>\n",
       "        </tr>\n",
       "        <tr>\n",
       "            <td>10323</td>\n",
       "            <td>movie</td>\n",
       "            <td>The Cabinet of Dr. Caligari</td>\n",
       "            <td>Das Cabinet des Dr. Caligari</td>\n",
       "            <td>0</td>\n",
       "            <td>1920</td>\n",
       "            <td>None</td>\n",
       "            <td>76</td>\n",
       "            <td>Fantasy,Horror,Mystery</td>\n",
       "        </tr>\n",
       "        <tr>\n",
       "            <td>12349</td>\n",
       "            <td>movie</td>\n",
       "            <td>The Kid</td>\n",
       "            <td>The Kid</td>\n",
       "            <td>0</td>\n",
       "            <td>1921</td>\n",
       "            <td>None</td>\n",
       "            <td>68</td>\n",
       "            <td>Comedy,Drama,Family</td>\n",
       "        </tr>\n",
       "        <tr>\n",
       "            <td>13442</td>\n",
       "            <td>movie</td>\n",
       "            <td>Nosferatu</td>\n",
       "            <td>Nosferatu, eine Symphonie des Grauens</td>\n",
       "            <td>0</td>\n",
       "            <td>1922</td>\n",
       "            <td>None</td>\n",
       "            <td>94</td>\n",
       "            <td>Fantasy,Horror</td>\n",
       "        </tr>\n",
       "    </tbody>\n",
       "</table>"
      ],
      "text/plain": [
       "[(417, 'short', 'A Trip to the Moon', 'Le voyage dans la lune', '0', '1902', None, '13', 'Action,Adventure,Comedy'),\n",
       " (4972, 'movie', 'The Birth of a Nation', 'The Birth of a Nation', '0', '1915', None, '195', 'Drama,History,War'),\n",
       " (10323, 'movie', 'The Cabinet of Dr. Caligari', 'Das Cabinet des Dr. Caligari', '0', '1920', None, '76', 'Fantasy,Horror,Mystery'),\n",
       " (12349, 'movie', 'The Kid', 'The Kid', '0', '1921', None, '68', 'Comedy,Drama,Family'),\n",
       " (13442, 'movie', 'Nosferatu', 'Nosferatu, eine Symphonie des Grauens', '0', '1922', None, '94', 'Fantasy,Horror')]"
      ]
     },
     "execution_count": 27,
     "metadata": {},
     "output_type": "execute_result"
    }
   ],
   "source": [
    "%%sql\n",
    "SELECT *\n",
    "FROM Title\n",
    "LIMIT 5;"
   ]
  },
  {
   "cell_type": "code",
   "execution_count": 28,
   "id": "442e1a17-e08d-4005-8612-6d58463c4ce8",
   "metadata": {},
   "outputs": [
    {
     "name": "stdout",
     "output_type": "stream",
     "text": [
      " * sqlite:///imdbmini.db\n",
      "Done.\n"
     ]
    },
    {
     "data": {
      "text/html": [
       "<table>\n",
       "    <thead>\n",
       "        <tr>\n",
       "            <th>nconst</th>\n",
       "            <th>primaryName</th>\n",
       "            <th>birthYear</th>\n",
       "            <th>deathYear</th>\n",
       "            <th>primaryProfession</th>\n",
       "        </tr>\n",
       "    </thead>\n",
       "    <tbody>\n",
       "        <tr>\n",
       "            <td>1</td>\n",
       "            <td>Fred Astaire</td>\n",
       "            <td>1899</td>\n",
       "            <td>1987</td>\n",
       "            <td>soundtrack,actor,miscellaneous</td>\n",
       "        </tr>\n",
       "        <tr>\n",
       "            <td>2</td>\n",
       "            <td>Lauren Bacall</td>\n",
       "            <td>1924</td>\n",
       "            <td>2014</td>\n",
       "            <td>actress,soundtrack</td>\n",
       "        </tr>\n",
       "        <tr>\n",
       "            <td>3</td>\n",
       "            <td>Brigitte Bardot</td>\n",
       "            <td>1934</td>\n",
       "            <td>None</td>\n",
       "            <td>actress,soundtrack,music_department</td>\n",
       "        </tr>\n",
       "        <tr>\n",
       "            <td>4</td>\n",
       "            <td>John Belushi</td>\n",
       "            <td>1949</td>\n",
       "            <td>1982</td>\n",
       "            <td>actor,soundtrack,writer</td>\n",
       "        </tr>\n",
       "        <tr>\n",
       "            <td>5</td>\n",
       "            <td>Ingmar Bergman</td>\n",
       "            <td>1918</td>\n",
       "            <td>2007</td>\n",
       "            <td>writer,director,actor</td>\n",
       "        </tr>\n",
       "    </tbody>\n",
       "</table>"
      ],
      "text/plain": [
       "[(1, 'Fred Astaire', '1899', '1987', 'soundtrack,actor,miscellaneous'),\n",
       " (2, 'Lauren Bacall', '1924', '2014', 'actress,soundtrack'),\n",
       " (3, 'Brigitte Bardot', '1934', None, 'actress,soundtrack,music_department'),\n",
       " (4, 'John Belushi', '1949', '1982', 'actor,soundtrack,writer'),\n",
       " (5, 'Ingmar Bergman', '1918', '2007', 'writer,director,actor')]"
      ]
     },
     "execution_count": 28,
     "metadata": {},
     "output_type": "execute_result"
    }
   ],
   "source": [
    "%%sql\n",
    "SELECT *\n",
    "FROM Name\n",
    "LIMIT 5;"
   ]
  },
  {
   "cell_type": "code",
   "execution_count": 29,
   "id": "d93aea17-f283-491f-89b8-63e6d2fe6e26",
   "metadata": {},
   "outputs": [
    {
     "name": "stdout",
     "output_type": "stream",
     "text": [
      " * sqlite:///imdbmini.db\n",
      "Done.\n"
     ]
    },
    {
     "data": {
      "text/html": [
       "<table>\n",
       "    <thead>\n",
       "        <tr>\n",
       "            <th>tconst</th>\n",
       "            <th>ordering</th>\n",
       "            <th>nconst</th>\n",
       "            <th>category</th>\n",
       "            <th>job</th>\n",
       "            <th>characters</th>\n",
       "        </tr>\n",
       "    </thead>\n",
       "    <tbody>\n",
       "        <tr>\n",
       "            <td>417</td>\n",
       "            <td>1</td>\n",
       "            <td>617588</td>\n",
       "            <td>actor</td>\n",
       "            <td>None</td>\n",
       "            <td>[&quot;Prof. Barbenfouillis&quot;,&quot;The Moon&quot;]</td>\n",
       "        </tr>\n",
       "        <tr>\n",
       "            <td>417</td>\n",
       "            <td>2</td>\n",
       "            <td>29244</td>\n",
       "            <td>actor</td>\n",
       "            <td>None</td>\n",
       "            <td>[&quot;Astronomer&quot;]</td>\n",
       "        </tr>\n",
       "        <tr>\n",
       "            <td>417</td>\n",
       "            <td>3</td>\n",
       "            <td>76933</td>\n",
       "            <td>actress</td>\n",
       "            <td>None</td>\n",
       "            <td>[&quot;Lady in the Moon&quot;]</td>\n",
       "        </tr>\n",
       "        <tr>\n",
       "            <td>417</td>\n",
       "            <td>4</td>\n",
       "            <td>1215996</td>\n",
       "            <td>actor</td>\n",
       "            <td>None</td>\n",
       "            <td>[&quot;Astronomer&quot;]</td>\n",
       "        </tr>\n",
       "        <tr>\n",
       "            <td>417</td>\n",
       "            <td>5</td>\n",
       "            <td>894523</td>\n",
       "            <td>writer</td>\n",
       "            <td>novel &quot;De la Terre à la Lune&quot;</td>\n",
       "            <td>None</td>\n",
       "        </tr>\n",
       "    </tbody>\n",
       "</table>"
      ],
      "text/plain": [
       "[(417, '1', 617588, 'actor', None, '[\"Prof. Barbenfouillis\",\"The Moon\"]'),\n",
       " (417, '2', 29244, 'actor', None, '[\"Astronomer\"]'),\n",
       " (417, '3', 76933, 'actress', None, '[\"Lady in the Moon\"]'),\n",
       " (417, '4', 1215996, 'actor', None, '[\"Astronomer\"]'),\n",
       " (417, '5', 894523, 'writer', 'novel \"De la Terre à la Lune\"', None)]"
      ]
     },
     "execution_count": 29,
     "metadata": {},
     "output_type": "execute_result"
    }
   ],
   "source": [
    "%%sql\n",
    "SELECT *\n",
    "FROM Role\n",
    "LIMIT 5;"
   ]
  },
  {
   "cell_type": "code",
   "execution_count": 30,
   "id": "53412705-63e1-477c-9640-58386cdfae5e",
   "metadata": {},
   "outputs": [
    {
     "name": "stdout",
     "output_type": "stream",
     "text": [
      " * sqlite:///imdbmini.db\n",
      "Done.\n"
     ]
    },
    {
     "data": {
      "text/html": [
       "<table>\n",
       "    <thead>\n",
       "        <tr>\n",
       "            <th>tconst</th>\n",
       "            <th>averageRating</th>\n",
       "            <th>numVotes</th>\n",
       "        </tr>\n",
       "    </thead>\n",
       "    <tbody>\n",
       "        <tr>\n",
       "            <td>417</td>\n",
       "            <td>8.2</td>\n",
       "            <td>46382</td>\n",
       "        </tr>\n",
       "        <tr>\n",
       "            <td>4972</td>\n",
       "            <td>6.3</td>\n",
       "            <td>23836</td>\n",
       "        </tr>\n",
       "        <tr>\n",
       "            <td>10323</td>\n",
       "            <td>8.1</td>\n",
       "            <td>60244</td>\n",
       "        </tr>\n",
       "        <tr>\n",
       "            <td>12349</td>\n",
       "            <td>8.3</td>\n",
       "            <td>120059</td>\n",
       "        </tr>\n",
       "        <tr>\n",
       "            <td>13442</td>\n",
       "            <td>7.9</td>\n",
       "            <td>92218</td>\n",
       "        </tr>\n",
       "    </tbody>\n",
       "</table>"
      ],
      "text/plain": [
       "[(417, '8.2', '46382'),\n",
       " (4972, '6.3', '23836'),\n",
       " (10323, '8.1', '60244'),\n",
       " (12349, '8.3', '120059'),\n",
       " (13442, '7.9', '92218')]"
      ]
     },
     "execution_count": 30,
     "metadata": {},
     "output_type": "execute_result"
    }
   ],
   "source": [
    "%%sql\n",
    "SELECT *\n",
    "FROM Rating\n",
    "LIMIT 5;"
   ]
  },
  {
   "cell_type": "code",
   "execution_count": 32,
   "id": "c4b51e00-5fa2-40ad-85fc-c262551dff86",
   "metadata": {},
   "outputs": [
    {
     "data": {
      "text/html": [
       "<div>\n",
       "<style scoped>\n",
       "    .dataframe tbody tr th:only-of-type {\n",
       "        vertical-align: middle;\n",
       "    }\n",
       "\n",
       "    .dataframe tbody tr th {\n",
       "        vertical-align: top;\n",
       "    }\n",
       "\n",
       "    .dataframe thead th {\n",
       "        text-align: right;\n",
       "    }\n",
       "</style>\n",
       "<table border=\"1\" class=\"dataframe\">\n",
       "  <thead>\n",
       "    <tr style=\"text-align: right;\">\n",
       "      <th></th>\n",
       "      <th>titleType</th>\n",
       "    </tr>\n",
       "  </thead>\n",
       "  <tbody>\n",
       "    <tr>\n",
       "      <th>0</th>\n",
       "      <td>short</td>\n",
       "    </tr>\n",
       "    <tr>\n",
       "      <th>1</th>\n",
       "      <td>movie</td>\n",
       "    </tr>\n",
       "    <tr>\n",
       "      <th>2</th>\n",
       "      <td>tvSeries</td>\n",
       "    </tr>\n",
       "    <tr>\n",
       "      <th>3</th>\n",
       "      <td>tvMovie</td>\n",
       "    </tr>\n",
       "    <tr>\n",
       "      <th>4</th>\n",
       "      <td>tvMiniSeries</td>\n",
       "    </tr>\n",
       "    <tr>\n",
       "      <th>5</th>\n",
       "      <td>video</td>\n",
       "    </tr>\n",
       "    <tr>\n",
       "      <th>6</th>\n",
       "      <td>videoGame</td>\n",
       "    </tr>\n",
       "    <tr>\n",
       "      <th>7</th>\n",
       "      <td>tvEpisode</td>\n",
       "    </tr>\n",
       "    <tr>\n",
       "      <th>8</th>\n",
       "      <td>tvSpecial</td>\n",
       "    </tr>\n",
       "  </tbody>\n",
       "</table>\n",
       "</div>"
      ],
      "text/plain": [
       "      titleType\n",
       "0         short\n",
       "1         movie\n",
       "2      tvSeries\n",
       "3       tvMovie\n",
       "4  tvMiniSeries\n",
       "5         video\n",
       "6     videoGame\n",
       "7     tvEpisode\n",
       "8     tvSpecial"
      ]
     },
     "execution_count": 32,
     "metadata": {},
     "output_type": "execute_result"
    }
   ],
   "source": [
    "query = \"\"\"\n",
    "    SELECT DISTINCT titleType\n",
    "    FROM Title;\n",
    "\"\"\"\n",
    "\n",
    "data = pd.read_sql(query, engine)\n",
    "data"
   ]
  },
  {
   "cell_type": "code",
   "execution_count": null,
   "id": "a7fa507f-5929-4970-888b-03ab7d106674",
   "metadata": {},
   "outputs": [],
   "source": [
    "query2 = \"\"\"\n",
    "    SELECT tconst, titleType, \n",
    "    FROM Title\n",
    "    JOIN Role, Rating \n",
    "\"\"\"\n",
    "\n",
    "data2 = pd.read_sql(query2, engine)"
   ]
  }
 ],
 "metadata": {
  "kernelspec": {
   "display_name": "Python 3 (ipykernel)",
   "language": "python",
   "name": "python3"
  },
  "language_info": {
   "codemirror_mode": {
    "name": "ipython",
    "version": 3
   },
   "file_extension": ".py",
   "mimetype": "text/x-python",
   "name": "python",
   "nbconvert_exporter": "python",
   "pygments_lexer": "ipython3",
   "version": "3.8.7"
  }
 },
 "nbformat": 4,
 "nbformat_minor": 5
}
