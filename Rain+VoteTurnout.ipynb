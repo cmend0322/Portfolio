{
 "cells": [
  {
   "cell_type": "markdown",
   "id": "e1774bdd-9b04-42a2-aadb-68f3c0fbcfb5",
   "metadata": {},
   "source": [
    "### Is voter turnout influenced by the weather?  "
   ]
  },
  {
   "cell_type": "markdown",
   "id": "d64ca275-d4f0-47ba-a941-1671fb1317c6",
   "metadata": {},
   "source": [
    "Let pctvote be the percent of the registered voters in a given county who turn out to vote (i.e., pctvote = 80 means that 80% of registered voters in a given county turned out to vote).  \n",
    "\n",
    "Let *rain* be a **dummy** variable for whether it rains for at least one hour on election day,  *temp* be the high temperature on election day (in degrees), and *numpoll* be the number of polling places in the county.  \n",
    "\n",
    "One model to test the relationship is \n",
    "\n",
    "$\\textrm{pctvote}=\\beta_0+\\beta_1\\textrm{rain}+\\beta_2\\textrm{temp}+\\beta_3\\textrm{numpoll}+u$"
   ]
  },
  {
   "cell_type": "markdown",
   "id": "4743477d-d733-4780-9760-f6b368ed7cbe",
   "metadata": {},
   "source": [
    "### Null Hypotheses &  Alternative Hypothesis\n",
    "$$H0: {\\beta}_1 =0$$\n",
    "$$H1: {\\beta}_1 \\not=0$$"
   ]
  },
  {
   "cell_type": "markdown",
   "id": "cf2a101c-ec73-45fb-ba86-2df1a86b4bf5",
   "metadata": {},
   "source": [
    "### What I expect from ${\\beta}_1$?"
   ]
  },
  {
   "cell_type": "markdown",
   "id": "62666a7b-543a-471a-9acb-e5ad5385189e",
   "metadata": {},
   "source": [
    "${\\beta1}$ represents the percent change in pctvote (percent change of registered voters who turn out to vote) associated with one unit increase in rain, while holding all other variables constant. Based on the situation, it is likely that less rain would result in higher voter turnout because people are more willing to go out when they don't risk getting wet. Conversely, heavy rain compared to light rain would likely discourage people from driving to the polling stations or dropping off their ballots. Therefore, if one unit of rain is associated with ${\\beta1}$, I expect ${\\beta1}$ to be a negative value, indicating that increased rainfall leads to a decrease in voter turnout.\n"
   ]
  },
  {
   "cell_type": "markdown",
   "id": "aeda331b-6a74-4a77-900f-b6270b0a2445",
   "metadata": {},
   "source": [
    "### Suppose we estimate the model using data on 120 randomly selected counties in the U.S., and we deliver the estimates (with standard errors in parentheses) below.\n",
    "\n",
    "$$\\hat{\\beta}_0=41.67 (1.262)$$\n",
    "$$\\hat{\\beta}_1=-4.92 (0.799)$$\n",
    "$$\\hat{\\beta}_2=0.01 (0.017)$$\n",
    "$$\\hat{\\beta}_3=0.65 (0.027)$$\n",
    "$$R^2=0.398$$\n",
    "\n"
   ]
  },
  {
   "cell_type": "markdown",
   "id": "43906cc8-9d2b-4ac4-a720-32a167db6a63",
   "metadata": {},
   "source": [
    "### Test the hypothesis in part 1 at the 1% significance level.  Be sure to state the critical value that you use."
   ]
  },
  {
   "cell_type": "code",
   "execution_count": 9,
   "id": "1f3622b1-7a71-4ed6-aae6-c6ba9c99af1b",
   "metadata": {},
   "outputs": [
    {
     "data": {
      "text/html": [
       "-6.15769712140175"
      ],
      "text/latex": [
       "-6.15769712140175"
      ],
      "text/markdown": [
       "-6.15769712140175"
      ],
      "text/plain": [
       "[1] -6.157697"
      ]
     },
     "metadata": {},
     "output_type": "display_data"
    },
    {
     "data": {
      "text/html": [
       "-2.33"
      ],
      "text/latex": [
       "-2.33"
      ],
      "text/markdown": [
       "-2.33"
      ],
      "text/plain": [
       "[1] -2.33"
      ]
     },
     "metadata": {},
     "output_type": "display_data"
    }
   ],
   "source": [
    "t_stat = (-4.92 -0 )/0.799\n",
    "critical_value <- -2.33\n",
    "\n",
    "t_stat\n",
    "critical_value"
   ]
  },
  {
   "cell_type": "markdown",
   "id": "3240a552-3729-4276-9d9f-c505d5ea508b",
   "metadata": {},
   "source": [
    "The test statistic value is less than the critical value (-6.16 < -2.33) therefore we can reject the null. We can not claim that the percent change is 0 per unit of rain."
   ]
  }
 ],
 "metadata": {
  "kernelspec": {
   "display_name": "R",
   "language": "R",
   "name": "ir"
  },
  "language_info": {
   "codemirror_mode": "r",
   "file_extension": ".r",
   "mimetype": "text/x-r-source",
   "name": "R",
   "pygments_lexer": "r",
   "version": "4.4.1"
  }
 },
 "nbformat": 4,
 "nbformat_minor": 5
}
