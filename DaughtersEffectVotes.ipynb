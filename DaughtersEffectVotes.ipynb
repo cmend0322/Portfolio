{
 "cells": [
  {
   "cell_type": "markdown",
   "id": "df1e3185-a9db-48ca-a661-3f8d7e5be66a",
   "metadata": {},
   "source": [
    "### Hypothesis: Having (more) daughters makes legislators more likely to vote liberally (in terms of political alignment, and in contrast to conservatively) on issues concerning women."
   ]
  },
  {
   "cell_type": "markdown",
   "id": "bfa0003c-57b5-40da-8065-4d34a8d6d808",
   "metadata": {},
   "source": [
    "As a measure of a liberal voting record, we use scores assigned by the American Association of University Women (AAUW), a liberal group that concerns itself with issues of interest to women. For the 108th Congress, the AAUW selected 9 pieces of legislation in the areas of education, equality and reproductive rights. The AAUW then assigned a score to each member of Congress. The scores range from 0 to 100 and measure the percentage of times the legislator voted in favor of the position held by the AAUW.\n",
    "\n",
    " The dataset `legislators.dta` contains the following characteristics for a random sample of 386 members of the 108th Congress:\n",
    " \n",
    " * $ngirls$ number of daughters\n",
    " * $totchi$ total number of children\n",
    " * $age$ age\n",
    " * $female$ indicator for being female\n",
    " * $repub$ indicator for being a Republican\n",
    " * $moredef$ proportion of people in the legislator's district who are in favor of \"more spending on defense\" \n",
    " * $aauw$ AAUW score\n",
    " \n",
    "(For the purposes of this exercise, you can assume all members of the 108th Congress were either Democrats or Republicans and were either male or female.) "
   ]
  },
  {
   "cell_type": "markdown",
   "id": "c6fd4085-9128-4bdd-80fe-badead5a2be1",
   "metadata": {},
   "source": [
    "### Estimate and report results for the following regression models:"
   ]
  },
  {
   "cell_type": "code",
   "execution_count": 27,
   "id": "dd48ee5c-0d6f-4f63-b5be-e2a68a4a1103",
   "metadata": {},
   "outputs": [
    {
     "data": {
      "text/plain": [
       "\n",
       "Call:\n",
       "lm(formula = aauw ~ female + repub + ngirls, data = leg)\n",
       "\n",
       "Residuals:\n",
       "    Min      1Q  Median      3Q     Max \n",
       "-86.215  -6.668  -5.976  13.439  56.024 \n",
       "\n",
       "Coefficients:\n",
       "            Estimate Std. Error t value Pr(>|t|)    \n",
       "(Intercept)  86.5608     1.6251  53.266  < 2e-16 ***\n",
       "female       11.4167     2.8473   4.010 7.31e-05 ***\n",
       "repub       -79.5468     1.7993 -44.210  < 2e-16 ***\n",
       "ngirls       -0.3460     0.7894  -0.438    0.661    \n",
       "---\n",
       "Signif. codes:  0 ‘***’ 0.001 ‘**’ 0.01 ‘*’ 0.05 ‘.’ 0.1 ‘ ’ 1\n",
       "\n",
       "Residual standard error: 17.4 on 382 degrees of freedom\n",
       "Multiple R-squared:  0.8449,\tAdjusted R-squared:  0.8437 \n",
       "F-statistic: 693.9 on 3 and 382 DF,  p-value: < 2.2e-16\n"
      ]
     },
     "metadata": {},
     "output_type": "display_data"
    },
    {
     "data": {
      "text/plain": [
       "\n",
       "Call:\n",
       "lm(formula = aauw ~ female + repub + ngirls + ngirls2 + totchi, \n",
       "    data = leg)\n",
       "\n",
       "Residuals:\n",
       "    Min      1Q  Median      3Q     Max \n",
       "-88.508  -7.606  -1.361  11.839  54.859 \n",
       "\n",
       "Coefficients:\n",
       "            Estimate Std. Error t value Pr(>|t|)    \n",
       "(Intercept)  88.1609     1.9844  44.428  < 2e-16 ***\n",
       "female       11.3457     2.8444   3.989 7.97e-05 ***\n",
       "repub       -78.8260     1.8076 -43.609  < 2e-16 ***\n",
       "ngirls        2.6152     1.7157   1.524   0.1283    \n",
       "ngirls2      -0.1932     0.3217  -0.601   0.5485    \n",
       "totchi       -2.0752     0.8056  -2.576   0.0104 *  \n",
       "---\n",
       "Signif. codes:  0 ‘***’ 0.001 ‘**’ 0.01 ‘*’ 0.05 ‘.’ 0.1 ‘ ’ 1\n",
       "\n",
       "Residual standard error: 17.28 on 380 degrees of freedom\n",
       "Multiple R-squared:  0.8478,\tAdjusted R-squared:  0.8458 \n",
       "F-statistic: 423.5 on 5 and 380 DF,  p-value: < 2.2e-16\n"
      ]
     },
     "metadata": {},
     "output_type": "display_data"
    },
    {
     "data": {
      "text/plain": [
       "\n",
       "Call:\n",
       "lm(formula = aauw ~ female + repub + ngirls + repub * ngirls + \n",
       "    repub * ngirls2 + totchi + moredef, data = leg)\n",
       "\n",
       "Residuals:\n",
       "    Min      1Q  Median      3Q     Max \n",
       "-85.436  -7.964  -1.367  11.292  54.591 \n",
       "\n",
       "Coefficients:\n",
       "              Estimate Std. Error t value Pr(>|t|)    \n",
       "(Intercept)    95.5997     3.6777  25.995  < 2e-16 ***\n",
       "female         11.6079     2.8334   4.097 5.13e-05 ***\n",
       "repub         -79.4364     3.0424 -26.110  < 2e-16 ***\n",
       "ngirls          0.4452     3.1682   0.141   0.8883    \n",
       "ngirls2         0.5286     0.8568   0.617   0.5376    \n",
       "totchi         -2.0364     0.8066  -2.525   0.0120 *  \n",
       "moredef        -0.3166     0.1247  -2.540   0.0115 *  \n",
       "repub:ngirls    2.1281     3.6217   0.588   0.5571    \n",
       "repub:ngirls2  -0.7477     0.9302  -0.804   0.4220    \n",
       "---\n",
       "Signif. codes:  0 ‘***’ 0.001 ‘**’ 0.01 ‘*’ 0.05 ‘.’ 0.1 ‘ ’ 1\n",
       "\n",
       "Residual standard error: 17.2 on 377 degrees of freedom\n",
       "Multiple R-squared:  0.8505,\tAdjusted R-squared:  0.8474 \n",
       "F-statistic: 268.2 on 8 and 377 DF,  p-value: < 2.2e-16\n"
      ]
     },
     "metadata": {},
     "output_type": "display_data"
    }
   ],
   "source": [
    "library(tidyverse)\n",
    "library(haven)\n",
    "\n",
    "leg <- read_dta(\"legislators.dta\")\n",
    "leg <- mutate (leg, ngirls2 = leg$ngirls**2)\n",
    "\n",
    "reg1 <- lm(aauw ~ female+repub+ngirls, data = leg)\n",
    "reg2 <- lm(aauw ~ female+repub+ngirls+ngirls2+totchi, data = leg)\n",
    "reg3 <- lm(aauw ~ female+repub+ngirls+repub*ngirls+repub*ngirls2+totchi+moredef, data = leg)\n",
    "\n",
    "summary(reg1)  \n",
    "summary(reg2)\n",
    "summary(reg3)"
   ]
  },
  {
   "cell_type": "markdown",
   "id": "07d6b13a-d542-4a64-9736-3ca7a9315413",
   "metadata": {},
   "source": [
    "### Best fit model and why"
   ]
  },
  {
   "cell_type": "markdown",
   "id": "fc7794f7-cb3c-4087-9dc0-5bbcf7e9aaac",
   "metadata": {},
   "source": [
    "Model 3 is the best fit because it has the lowest standard error (17.4 on 382 degrees of freedom > 17.28 on 380 degrees of freedom > 17.2 on 377 degrees of freedom). Additionally, it has the highest R-squared value, indicating that this regression model explains more of the variation in the response variable compared to the other models. R-squared shows the proportion of the variance in the response variable that can be explained by the predictor variables in a regression model."
   ]
  },
  {
   "cell_type": "markdown",
   "id": "b2527941-52e0-4587-9f1b-aa329d04fe52",
   "metadata": {},
   "source": [
    "### Interpretting marginal effect at mean of the number of daughters on the AAUW score in each model"
   ]
  },
  {
   "cell_type": "code",
   "execution_count": 28,
   "id": "bd971826-8c5e-46f1-a37f-450e4c0c746c",
   "metadata": {},
   "outputs": [
    {
     "data": {
      "text/html": [
       "-0.346022390451574"
      ],
      "text/latex": [
       "-0.346022390451574"
      ],
      "text/markdown": [
       "-0.346022390451574"
      ],
      "text/plain": [
       "[1] -0.3460224"
      ]
     },
     "metadata": {},
     "output_type": "display_data"
    },
    {
     "data": {
      "text/html": [
       "2.1457022456137"
      ],
      "text/latex": [
       "2.1457022456137"
      ],
      "text/markdown": [
       "2.1457022456137"
      ],
      "text/plain": [
       "[1] 2.145702"
      ]
     },
     "metadata": {},
     "output_type": "display_data"
    },
    {
     "data": {
      "text/html": [
       "2.0409439177164"
      ],
      "text/latex": [
       "2.0409439177164"
      ],
      "text/markdown": [
       "2.0409439177164"
      ],
      "text/plain": [
       "[1] 2.040944"
      ]
     },
     "metadata": {},
     "output_type": "display_data"
    },
    {
     "data": {
      "text/html": [
       "1.72973734506801"
      ],
      "text/latex": [
       "1.72973734506801"
      ],
      "text/markdown": [
       "1.72973734506801"
      ],
      "text/plain": [
       "[1] 1.729737"
      ]
     },
     "metadata": {},
     "output_type": "display_data"
    }
   ],
   "source": [
    "mean_girls <- mean(leg$ngirls)\n",
    "\n",
    "reg1_coeff<-summary(reg1)$coef\n",
    "reg2_coeff<-summary(reg2)$coef\n",
    "reg3_coeff<-summary(reg3)$coef\n",
    "\n",
    "reg1_coeff[4,1]\n",
    "reg2_coeff[4,1]+ 2 * reg2_coeff[5,1] * mean_girls\n",
    "reg3_coeff[4,1]+ 2 * reg3_coeff[5,1] * mean_girls + reg3_coeff[8,1] + 2 *reg3_coeff[9,1]*mean_girls\n",
    "reg3_coeff[4,1]+ 2 * reg3_coeff[5,1] * mean_girls"
   ]
  },
  {
   "cell_type": "markdown",
   "id": "66a16999-56c3-4618-a46c-88a5b5bd1e14",
   "metadata": {},
   "source": [
    "**Model 1 = -0.35** \n",
    "\n",
    "In Model One, the number of daughters has a slight negative effect on the AAUW score (voting in favor), while holding other variables constant. This suggests that as the number of daughters increases, the likelihood of voting in favor, as measured by the AAUW score, slightly decreases when other factors are controlled for.\n",
    "\n",
    "**Model 2 = 2.15**\n",
    "\n",
    "In Model Two, the effect of the number of daughters on the AAUW score is positive. This suggests that, with all other variables remaining constant, an increase in the number of daughters is associated with a higher likelihood of a congressperson voting in favor, as indicated by the AAUW score.\n",
    "\n",
    "**Model 3 (republicans = 0) = 2.04**\n",
    "**Model 3 (republicans = 1) = 1.73**\n",
    "\n",
    "In Model 3, the effect of the number of daughters on the AAUW score is positive for both Democrats and Republicans while other variables remain constant. However, this positive effect is more pronounced for Democrats (Republicans=0), indicating that the number of daughters has a stronger influence on the AAUW score for Democrats compared to Republicans.\n"
   ]
  },
  {
   "cell_type": "markdown",
   "id": "1d89aa49-0e20-4f0a-a2a4-ac84db9bbeac",
   "metadata": {},
   "source": [
    "### Testing the effect of number of daughters on AAUW scores using the second model"
   ]
  },
  {
   "cell_type": "markdown",
   "id": "ef6b1620-4f84-445b-8e4a-824d72557ca8",
   "metadata": {},
   "source": [
    "$$ H0: {\\beta_3}, {\\beta_4} = 0$$\n",
    "$$ H1: {\\beta_3}, {\\beta_4} \\not= 0$$"
   ]
  },
  {
   "cell_type": "code",
   "execution_count": 29,
   "id": "d2820a1c-f72a-4db2-8e90-a805d0ab0a17",
   "metadata": {},
   "outputs": [
    {
     "data": {
      "text/html": [
       "1.47735255535288"
      ],
      "text/latex": [
       "1.47735255535288"
      ],
      "text/markdown": [
       "1.47735255535288"
      ],
      "text/plain": [
       "[1] 1.477353"
      ]
     },
     "metadata": {},
     "output_type": "display_data"
    }
   ],
   "source": [
    "restricted = lm (aauw ~ female+repub+totchi, data=leg)\n",
    "unrestricted = reg2\n",
    "\n",
    "R2r = summary(restricted)$r.squared\n",
    "R2u = summary(unrestricted)$r.squared\n",
    "q= 2\n",
    "k=5\n",
    "n=nobs(restricted)\n",
    "\n",
    "\n",
    "F = ((R2u-R2r)/q)/ ((1-R2u)/(n-k-1))\n",
    "F"
   ]
  },
  {
   "cell_type": "markdown",
   "id": "691a3a09-6d90-4f99-8156-70ebf927f669",
   "metadata": {},
   "source": [
    "Our F statistics is 1.477 and the critical value is 3 according to the 95% significance level we will fail to reject the null."
   ]
  },
  {
   "cell_type": "markdown",
   "id": "a634b4a7-d2ec-4dc4-9a54-407027ce59c5",
   "metadata": {},
   "source": [
    "### Predicting the AAUW score for male democrats who have 3 daughters and 0 sons, and who have 36% of constituents who want more spending on defense on average. Suggesting a 95% Cl for the predicted value."
   ]
  },
  {
   "cell_type": "code",
   "execution_count": 37,
   "id": "48ac81ba-a4ae-4f23-823e-7d21b245cfa6",
   "metadata": {},
   "outputs": [
    {
     "data": {
      "text/html": [
       "90.6553529649298"
      ],
      "text/latex": [
       "90.6553529649298"
      ],
      "text/markdown": [
       "90.6553529649298"
      ],
      "text/plain": [
       "[1] 90.65535"
      ]
     },
     "metadata": {},
     "output_type": "display_data"
    },
    {
     "data": {
      "text/html": [
       "77.7154990358214"
      ],
      "text/latex": [
       "77.7154990358214"
      ],
      "text/markdown": [
       "77.7154990358214"
      ],
      "text/plain": [
       "[1] 77.7155"
      ]
     },
     "metadata": {},
     "output_type": "display_data"
    },
    {
     "data": {
      "text/html": [
       "84.1854260003756"
      ],
      "text/latex": [
       "84.1854260003756"
      ],
      "text/markdown": [
       "84.1854260003756"
      ],
      "text/plain": [
       "[1] 84.18543"
      ]
     },
     "metadata": {},
     "output_type": "display_data"
    }
   ],
   "source": [
    "ngirls_n = leg$ngirls -3\n",
    "ngirls2_n = ngirls_n**2\n",
    "repubngirls_n = ngirls_n*leg$repub\n",
    "repubngirls2_n = ngirls2_n*leg$repub\n",
    "totchi_n = leg$totchi-3\n",
    "moredef_n = leg$moredef-36\n",
    "\n",
    "restricted = lm(aauw ~female+repub+ngirls_n+ngirls2_n+repubngirls_n+repubngirls2_n+totchi_n+moredef_n, data=leg)\n",
    "sigma= summary(restricted)$sigma^2\n",
    "SE = summary(restricted)$coeff[1,2]\n",
    "B0= summary(restricted)$coeff[1,1]\n",
    "\n",
    "upper_CI = B0 + ((1.96)*SE)\n",
    "lower_CI = B0 - ((1.96)*SE)\n",
    "\n",
    "upper_CI\n",
    "lower_CI\n",
    "\n",
    "AAUW_SCORE= summary(restricted)$coeff[1,1]\n",
    "AAUW_SCORE"
   ]
  },
  {
   "cell_type": "markdown",
   "id": "ac39352a-fd3f-4be3-8938-59239dbaaa5a",
   "metadata": {},
   "source": [
    "The confidence interval is [77.72, 90.66]. The predicted AAUW score is 84.19."
   ]
  }
 ],
 "metadata": {
  "kernelspec": {
   "display_name": "R",
   "language": "R",
   "name": "ir"
  },
  "language_info": {
   "codemirror_mode": "r",
   "file_extension": ".r",
   "mimetype": "text/x-r-source",
   "name": "R",
   "pygments_lexer": "r",
   "version": "4.4.1"
  }
 },
 "nbformat": 4,
 "nbformat_minor": 5
}
